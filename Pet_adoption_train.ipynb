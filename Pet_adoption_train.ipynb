{
  "nbformat": 4,
  "nbformat_minor": 0,
  "metadata": {
    "colab": {
      "name": "Pet_adoption_train.ipynb",
      "provenance": []
    },
    "kernelspec": {
      "name": "python3",
      "display_name": "Python 3"
    }
  },
  "cells": [
    {
      "cell_type": "code",
      "metadata": {
        "id": "luj9LiR9N87a",
        "colab_type": "code",
        "colab": {
          "base_uri": "https://localhost:8080/",
          "height": 72
        },
        "outputId": "320a7e96-0c5d-4df5-c01f-f7e3353aecfd"
      },
      "source": [
        "import pandas as pd\n",
        "import numpy as np\n",
        "import seaborn as sns\n",
        "import matplotlib.pyplot as plt\n",
        "%matplotlib inline"
      ],
      "execution_count": 1,
      "outputs": [
        {
          "output_type": "stream",
          "text": [
            "/usr/local/lib/python3.6/dist-packages/statsmodels/tools/_testing.py:19: FutureWarning: pandas.util.testing is deprecated. Use the functions in the public API at pandas.testing instead.\n",
            "  import pandas.util.testing as tm\n"
          ],
          "name": "stderr"
        }
      ]
    },
    {
      "cell_type": "code",
      "metadata": {
        "id": "bFe9ORZUKti0",
        "colab_type": "code",
        "colab": {}
      },
      "source": [
        "breed_data = pd.read_csv(\"/content/drive/My Drive/Pet_Adoption_Dataset/Breed Category Data\")"
      ],
      "execution_count": 6,
      "outputs": []
    },
    {
      "cell_type": "code",
      "metadata": {
        "id": "FzuCdAmQjPcl",
        "colab_type": "code",
        "colab": {}
      },
      "source": [
        "test_data =  pd.read_csv(\"/content/drive/My Drive/Pet_Adoption_Dataset/Test Data.csv\")"
      ],
      "execution_count": 98,
      "outputs": []
    },
    {
      "cell_type": "code",
      "metadata": {
        "id": "XcnB0e8Ij3vF",
        "colab_type": "code",
        "colab": {}
      },
      "source": [
        "test_data = test_data.drop([\"Unnamed: 0\"], axis=1)"
      ],
      "execution_count": 104,
      "outputs": []
    },
    {
      "cell_type": "code",
      "metadata": {
        "id": "gXO5J3D4jyAK",
        "colab_type": "code",
        "colab": {
          "base_uri": "https://localhost:8080/",
          "height": 206
        },
        "outputId": "6d2ff38b-6ee3-448e-c9d1-7ce984a215eb"
      },
      "source": [
        "test_data.head()"
      ],
      "execution_count": 105,
      "outputs": [
        {
          "output_type": "execute_result",
          "data": {
            "text/html": [
              "<div>\n",
              "<style scoped>\n",
              "    .dataframe tbody tr th:only-of-type {\n",
              "        vertical-align: middle;\n",
              "    }\n",
              "\n",
              "    .dataframe tbody tr th {\n",
              "        vertical-align: top;\n",
              "    }\n",
              "\n",
              "    .dataframe thead th {\n",
              "        text-align: right;\n",
              "    }\n",
              "</style>\n",
              "<table border=\"1\" class=\"dataframe\">\n",
              "  <thead>\n",
              "    <tr style=\"text-align: right;\">\n",
              "      <th></th>\n",
              "      <th>condition</th>\n",
              "      <th>color_type</th>\n",
              "      <th>length(m)</th>\n",
              "      <th>height(cm)</th>\n",
              "      <th>X1</th>\n",
              "      <th>X2</th>\n",
              "    </tr>\n",
              "  </thead>\n",
              "  <tbody>\n",
              "    <tr>\n",
              "      <th>0</th>\n",
              "      <td>-1.206301</td>\n",
              "      <td>-1.160783</td>\n",
              "      <td>1.266460</td>\n",
              "      <td>1.176432</td>\n",
              "      <td>-0.814202</td>\n",
              "      <td>0.694493</td>\n",
              "    </tr>\n",
              "    <tr>\n",
              "      <th>1</th>\n",
              "      <td>0.143981</td>\n",
              "      <td>0.694711</td>\n",
              "      <td>-1.536548</td>\n",
              "      <td>-1.596722</td>\n",
              "      <td>-0.814202</td>\n",
              "      <td>-1.010281</td>\n",
              "    </tr>\n",
              "    <tr>\n",
              "      <th>2</th>\n",
              "      <td>0.143981</td>\n",
              "      <td>-1.160783</td>\n",
              "      <td>-0.913657</td>\n",
              "      <td>1.059409</td>\n",
              "      <td>-0.814202</td>\n",
              "      <td>0.694493</td>\n",
              "    </tr>\n",
              "    <tr>\n",
              "      <th>3</th>\n",
              "      <td>0.143981</td>\n",
              "      <td>-1.160783</td>\n",
              "      <td>-0.740632</td>\n",
              "      <td>-1.461991</td>\n",
              "      <td>0.254101</td>\n",
              "      <td>-1.010281</td>\n",
              "    </tr>\n",
              "    <tr>\n",
              "      <th>4</th>\n",
              "      <td>0.143981</td>\n",
              "      <td>-0.490744</td>\n",
              "      <td>0.712779</td>\n",
              "      <td>0.267189</td>\n",
              "      <td>-0.814202</td>\n",
              "      <td>0.694493</td>\n",
              "    </tr>\n",
              "  </tbody>\n",
              "</table>\n",
              "</div>"
            ],
            "text/plain": [
              "   condition  color_type  length(m)  height(cm)        X1        X2\n",
              "0  -1.206301   -1.160783   1.266460    1.176432 -0.814202  0.694493\n",
              "1   0.143981    0.694711  -1.536548   -1.596722 -0.814202 -1.010281\n",
              "2   0.143981   -1.160783  -0.913657    1.059409 -0.814202  0.694493\n",
              "3   0.143981   -1.160783  -0.740632   -1.461991  0.254101 -1.010281\n",
              "4   0.143981   -0.490744   0.712779    0.267189 -0.814202  0.694493"
            ]
          },
          "metadata": {
            "tags": []
          },
          "execution_count": 105
        }
      ]
    },
    {
      "cell_type": "code",
      "metadata": {
        "id": "HFeQDFR5OI11",
        "colab_type": "code",
        "colab": {
          "base_uri": "https://localhost:8080/",
          "height": 206
        },
        "outputId": "982c2ee3-b9f7-4388-8f80-8b49a54a9931"
      },
      "source": [
        "breed_data.head()"
      ],
      "execution_count": 7,
      "outputs": [
        {
          "output_type": "execute_result",
          "data": {
            "text/html": [
              "<div>\n",
              "<style scoped>\n",
              "    .dataframe tbody tr th:only-of-type {\n",
              "        vertical-align: middle;\n",
              "    }\n",
              "\n",
              "    .dataframe tbody tr th {\n",
              "        vertical-align: top;\n",
              "    }\n",
              "\n",
              "    .dataframe thead th {\n",
              "        text-align: right;\n",
              "    }\n",
              "</style>\n",
              "<table border=\"1\" class=\"dataframe\">\n",
              "  <thead>\n",
              "    <tr style=\"text-align: right;\">\n",
              "      <th></th>\n",
              "      <th>condition</th>\n",
              "      <th>color_type</th>\n",
              "      <th>length(m)</th>\n",
              "      <th>height(cm)</th>\n",
              "      <th>X1</th>\n",
              "      <th>X2</th>\n",
              "      <th>breed_category</th>\n",
              "    </tr>\n",
              "  </thead>\n",
              "  <tbody>\n",
              "    <tr>\n",
              "      <th>0</th>\n",
              "      <td>1.494263</td>\n",
              "      <td>-0.336119</td>\n",
              "      <td>1.024225</td>\n",
              "      <td>-1.514343</td>\n",
              "      <td>1.169789</td>\n",
              "      <td>1.262750</td>\n",
              "      <td>-0.953477</td>\n",
              "    </tr>\n",
              "    <tr>\n",
              "      <th>1</th>\n",
              "      <td>0.143981</td>\n",
              "      <td>1.467833</td>\n",
              "      <td>0.747384</td>\n",
              "      <td>-1.020842</td>\n",
              "      <td>1.169789</td>\n",
              "      <td>1.262750</td>\n",
              "      <td>-0.953477</td>\n",
              "    </tr>\n",
              "    <tr>\n",
              "      <th>2</th>\n",
              "      <td>0.143981</td>\n",
              "      <td>-0.490744</td>\n",
              "      <td>-1.225103</td>\n",
              "      <td>1.035542</td>\n",
              "      <td>1.475018</td>\n",
              "      <td>-0.157894</td>\n",
              "      <td>2.221802</td>\n",
              "    </tr>\n",
              "    <tr>\n",
              "      <th>3</th>\n",
              "      <td>0.143981</td>\n",
              "      <td>1.467833</td>\n",
              "      <td>0.401334</td>\n",
              "      <td>-0.741371</td>\n",
              "      <td>-0.814202</td>\n",
              "      <td>-1.010281</td>\n",
              "      <td>-0.953477</td>\n",
              "    </tr>\n",
              "    <tr>\n",
              "      <th>4</th>\n",
              "      <td>1.494263</td>\n",
              "      <td>-1.160783</td>\n",
              "      <td>-0.013926</td>\n",
              "      <td>-1.261818</td>\n",
              "      <td>1.932862</td>\n",
              "      <td>-0.157894</td>\n",
              "      <td>-0.953477</td>\n",
              "    </tr>\n",
              "  </tbody>\n",
              "</table>\n",
              "</div>"
            ],
            "text/plain": [
              "   condition  color_type  length(m)  ...        X1        X2  breed_category\n",
              "0   1.494263   -0.336119   1.024225  ...  1.169789  1.262750       -0.953477\n",
              "1   0.143981    1.467833   0.747384  ...  1.169789  1.262750       -0.953477\n",
              "2   0.143981   -0.490744  -1.225103  ...  1.475018 -0.157894        2.221802\n",
              "3   0.143981    1.467833   0.401334  ... -0.814202 -1.010281       -0.953477\n",
              "4   1.494263   -1.160783  -0.013926  ...  1.932862 -0.157894       -0.953477\n",
              "\n",
              "[5 rows x 7 columns]"
            ]
          },
          "metadata": {
            "tags": []
          },
          "execution_count": 7
        }
      ]
    },
    {
      "cell_type": "code",
      "metadata": {
        "id": "tswIdk0DT0mD",
        "colab_type": "code",
        "colab": {
          "base_uri": "https://localhost:8080/",
          "height": 86
        },
        "outputId": "f8a327a2-5e76-4af6-f984-6f00c864a6a3"
      },
      "source": [
        "breed_data[\"breed_category\"].value_counts()"
      ],
      "execution_count": 27,
      "outputs": [
        {
          "output_type": "execute_result",
          "data": {
            "text/plain": [
              "-0.953477    9000\n",
              " 0.634162    8357\n",
              " 2.221802    1477\n",
              "Name: breed_category, dtype: int64"
            ]
          },
          "metadata": {
            "tags": []
          },
          "execution_count": 27
        }
      ]
    },
    {
      "cell_type": "code",
      "metadata": {
        "id": "SWG539p0ONyD",
        "colab_type": "code",
        "colab": {
          "base_uri": "https://localhost:8080/",
          "height": 354
        },
        "outputId": "f4d1b4cc-254e-4070-9d17-e5093833602d"
      },
      "source": [
        "sns.heatmap(breed_data.corr())"
      ],
      "execution_count": 12,
      "outputs": [
        {
          "output_type": "execute_result",
          "data": {
            "text/plain": [
              "<matplotlib.axes._subplots.AxesSubplot at 0x7fde7d82f748>"
            ]
          },
          "metadata": {
            "tags": []
          },
          "execution_count": 12
        },
        {
          "output_type": "display_data",
          "data": {
            "image/png": "[encoded data removed]",
            "text/plain": [
              "<Figure size 432x288 with 2 Axes>"
            ]
          },
          "metadata": {
            "tags": [],
            "needs_background": "light"
          }
        }
      ]
    },
    {
      "cell_type": "code",
      "metadata": {
        "id": "v_2R9eK9Pj1l",
        "colab_type": "code",
        "colab": {
          "base_uri": "https://localhost:8080/",
          "height": 34
        },
        "outputId": "ab9f790f-d11f-4c20-9590-43dc0ae05da0"
      },
      "source": [
        "breed_data.shape"
      ],
      "execution_count": 13,
      "outputs": [
        {
          "output_type": "execute_result",
          "data": {
            "text/plain": [
              "(18834, 7)"
            ]
          },
          "metadata": {
            "tags": []
          },
          "execution_count": 13
        }
      ]
    },
    {
      "cell_type": "code",
      "metadata": {
        "id": "WynL23qaO57w",
        "colab_type": "code",
        "colab": {}
      },
      "source": [
        "from sklearn.model_selection import train_test_split\n",
        "\n",
        "X_train, X_test, y_train, y_test = train_test_split(breed_data.iloc[: , :-1], breed_data.iloc[:,-1], test_size= 0.2, random_state =  1 )\n",
        "# X_train, X_val, y_train, y_val = train_test_split(X_train , y_train, test_size = 0.2 , random_state = 1)"
      ],
      "execution_count": 24,
      "outputs": []
    },
    {
      "cell_type": "code",
      "metadata": {
        "id": "tKwvsHZOR0cF",
        "colab_type": "code",
        "colab": {
          "base_uri": "https://localhost:8080/",
          "height": 34
        },
        "outputId": "7bf96ef8-8857-4bbb-e834-8c3bc8bd1c30"
      },
      "source": [
        "print(X_train.shape, X_test.shape)"
      ],
      "execution_count": 25,
      "outputs": [
        {
          "output_type": "stream",
          "text": [
            "(15067, 6) (3767, 6)\n"
          ],
          "name": "stdout"
        }
      ]
    },
    {
      "cell_type": "code",
      "metadata": {
        "id": "qOYV62ZxSc4u",
        "colab_type": "code",
        "colab": {}
      },
      "source": [
        "from sklearn.preprocessing import LabelEncoder\n",
        "\n",
        "le= LabelEncoder()\n",
        "y_train = le.fit_transform(y_train)\n",
        "y_test = le.fit_transform(y_test)"
      ],
      "execution_count": 30,
      "outputs": []
    },
    {
      "cell_type": "code",
      "metadata": {
        "id": "5cJb66YdXM4C",
        "colab_type": "code",
        "colab": {
          "base_uri": "https://localhost:8080/",
          "height": 34
        },
        "outputId": "ae8f4ba0-1f10-4210-9840-17cbdd540f90"
      },
      "source": [
        "print(y_train, y_test)"
      ],
      "execution_count": 35,
      "outputs": [
        {
          "output_type": "stream",
          "text": [
            "[2 0 1 ... 0 1 1] [0 0 0 ... 2 1 1]\n"
          ],
          "name": "stdout"
        }
      ]
    },
    {
      "cell_type": "markdown",
      "metadata": {
        "id": "Y9w9p82wTPyE",
        "colab_type": "text"
      },
      "source": [
        "# **Logistic Regression**"
      ]
    },
    {
      "cell_type": "code",
      "metadata": {
        "id": "q5lYcc5AShmT",
        "colab_type": "code",
        "colab": {
          "base_uri": "https://localhost:8080/",
          "height": 52
        },
        "outputId": "12d9b11f-783e-432c-8299-b69b62551ee2"
      },
      "source": [
        "from sklearn.linear_model import LogisticRegression\n",
        "from sklearn.metrics import accuracy_score\n",
        "\n",
        "lr = LogisticRegression()\n",
        "lr.fit(X_train, y_train)\n",
        "y_pred = lr.predict(X_test)\n",
        "accuracy = lr.score(X_test, y_test)\n",
        "train_accuracy = lr.score(X_train, y_train)\n",
        "\n",
        "print(\"test accuracy\", accuracy)\n",
        "print(\"train accuracy\", train_accuracy)"
      ],
      "execution_count": 60,
      "outputs": [
        {
          "output_type": "stream",
          "text": [
            "test accuracy 0.7658614281921954\n",
            "train accuracy 0.777128824583527\n"
          ],
          "name": "stdout"
        }
      ]
    },
    {
      "cell_type": "markdown",
      "metadata": {
        "id": "hsuxfMyFUMZD",
        "colab_type": "text"
      },
      "source": [
        "# **Decision Tree**"
      ]
    },
    {
      "cell_type": "code",
      "metadata": {
        "id": "V2xgWgEFTl35",
        "colab_type": "code",
        "colab": {
          "base_uri": "https://localhost:8080/",
          "height": 52
        },
        "outputId": "62309982-812d-465b-811a-e2f6a2e03906"
      },
      "source": [
        "from sklearn.tree import DecisionTreeClassifier\n",
        "\n",
        "dt = DecisionTreeClassifier()\n",
        "dt.fit(X_train, y_train)\n",
        "y_pred = dt.predict(X_test)\n",
        "accuracy =  dt.score(X_test, y_test)\n",
        "train_accuracy = dt.score(X_train, y_train)\n",
        "\n",
        "print(\"test accuracy\",accuracy)\n",
        "print(\"train accuracy\", train_accuracy)"
      ],
      "execution_count": 61,
      "outputs": [
        {
          "output_type": "stream",
          "text": [
            "test accuracy 0.8494823466949828\n",
            "train accuracy 1.0\n"
          ],
          "name": "stdout"
        }
      ]
    },
    {
      "cell_type": "markdown",
      "metadata": {
        "id": "oQUxVFO1YX5_",
        "colab_type": "text"
      },
      "source": [
        "# **Naive Bayes**"
      ]
    },
    {
      "cell_type": "code",
      "metadata": {
        "id": "B2va--zqUfyB",
        "colab_type": "code",
        "colab": {
          "base_uri": "https://localhost:8080/",
          "height": 52
        },
        "outputId": "d13e202b-6240-4e41-fc62-5e8bb8241ee2"
      },
      "source": [
        "from sklearn.naive_bayes import GaussianNB\n",
        "\n",
        "nb = GaussianNB()\n",
        "nb.fit(X_train, y_train)\n",
        "y_pred = nb.predict(X_test)\n",
        "accuracy = nb.score(X_test, y_test)\n",
        "train_accuracy = nb.score(X_train, y_train)\n",
        "\n",
        "print(\"test acc\",accuracy)\n",
        "print(\"train acc\", train_accuracy)"
      ],
      "execution_count": 62,
      "outputs": [
        {
          "output_type": "stream",
          "text": [
            "test acc 0.5234934961507831\n",
            "train acc 0.5287714873564744\n"
          ],
          "name": "stdout"
        }
      ]
    },
    {
      "cell_type": "markdown",
      "metadata": {
        "id": "rmmZMxxdZIFE",
        "colab_type": "text"
      },
      "source": [
        "# **SGD**"
      ]
    },
    {
      "cell_type": "code",
      "metadata": {
        "id": "rmnXQgB0ZAQC",
        "colab_type": "code",
        "colab": {
          "base_uri": "https://localhost:8080/",
          "height": 52
        },
        "outputId": "8ada54f3-22a4-4bd0-b59e-59455ceda5f9"
      },
      "source": [
        "from sklearn.linear_model import SGDClassifier\n",
        "\n",
        "SGD = SGDClassifier()\n",
        "SGD.fit(X_train, y_train)\n",
        "y_pred = SGD.predict(X_test)\n",
        "accuracy = SGD.score(X_test, y_test)\n",
        "train_accuracy = SGD.score(X_train, y_train)\n",
        "\n",
        "print(\"test acc\",accuracy)\n",
        "print(\"train acc\", train_accuracy)"
      ],
      "execution_count": 63,
      "outputs": [
        {
          "output_type": "stream",
          "text": [
            "test acc 0.7719670825590655\n",
            "train acc 0.7837658458883653\n"
          ],
          "name": "stdout"
        }
      ]
    },
    {
      "cell_type": "markdown",
      "metadata": {
        "id": "KKCN6G-ycKZh",
        "colab_type": "text"
      },
      "source": [
        "# **RandomForest**"
      ]
    },
    {
      "cell_type": "code",
      "metadata": {
        "id": "FJac3qJZZhcn",
        "colab_type": "code",
        "colab": {
          "base_uri": "https://localhost:8080/",
          "height": 52
        },
        "outputId": "471c6941-d820-482b-ad56-9fb1e1f89901"
      },
      "source": [
        "from sklearn.ensemble import RandomForestClassifier\n",
        "\n",
        "rf = RandomForestClassifier()\n",
        "rf.fit(X_train, y_train)\n",
        "train_accuracy = rf.score(X_train, y_train)\n",
        "test_accuracy = rf.score(X_test, y_test)\n",
        "\n",
        "print(\"train acc\", train_accuracy)\n",
        "print(\"test acc\", test_accuracy)"
      ],
      "execution_count": 65,
      "outputs": [
        {
          "output_type": "stream",
          "text": [
            "train acc 1.0\n",
            "test acc 0.8500132731616671\n"
          ],
          "name": "stdout"
        }
      ]
    },
    {
      "cell_type": "markdown",
      "metadata": {
        "id": "WnIHhxD3dtFi",
        "colab_type": "text"
      },
      "source": [
        "# **SVM**"
      ]
    },
    {
      "cell_type": "code",
      "metadata": {
        "id": "vC4DwW6qcogs",
        "colab_type": "code",
        "colab": {
          "base_uri": "https://localhost:8080/",
          "height": 52
        },
        "outputId": "c0241336-0d07-40d6-f857-ce583774ac54"
      },
      "source": [
        "from sklearn.svm import SVC\n",
        "\n",
        "svm = SVC()\n",
        "svm.fit(X_train, y_train)\n",
        "train_accuracy = svm.score(X_train, y_train)\n",
        "test_accuracy= svm.score(X_test, y_test)\n",
        "\n",
        "print(\"train acc\", train_accuracy)\n",
        "print(\"test acc\", test_accuracy)"
      ],
      "execution_count": 99,
      "outputs": [
        {
          "output_type": "stream",
          "text": [
            "train acc 0.7087011349306431\n",
            "test acc 0.7021502521900717\n"
          ],
          "name": "stdout"
        }
      ]
    },
    {
      "cell_type": "markdown",
      "metadata": {
        "id": "eiZg-Bxperyu",
        "colab_type": "text"
      },
      "source": [
        "# **KNN**"
      ]
    },
    {
      "cell_type": "code",
      "metadata": {
        "id": "ICySsxr4egrz",
        "colab_type": "code",
        "colab": {
          "base_uri": "https://localhost:8080/",
          "height": 52
        },
        "outputId": "0728447f-b228-4bde-915b-603e1086b5b5"
      },
      "source": [
        "from sklearn.neighbors import KNeighborsClassifier\n",
        "\n",
        "knn = KNeighborsClassifier()\n",
        "knn.fit(X_train, y_train)\n",
        "train_accuracy = knn.score(X_train, y_train)\n",
        "test_accuracy= knn.score(X_test, y_test)\n",
        "\n",
        "print(\"train acc\", train_accuracy)\n",
        "print(\"test acc\", test_accuracy)"
      ],
      "execution_count": 67,
      "outputs": [
        {
          "output_type": "stream",
          "text": [
            "train acc 0.8952014335966019\n",
            "test acc 0.8287762144942925\n"
          ],
          "name": "stdout"
        }
      ]
    },
    {
      "cell_type": "markdown",
      "metadata": {
        "id": "zcpP7fH5f8aU",
        "colab_type": "text"
      },
      "source": [
        "## **SVM gave the best classification out of all the models**"
      ]
    },
    {
      "cell_type": "code",
      "metadata": {
        "id": "aOTPjrzMfxdP",
        "colab_type": "code",
        "colab": {
          "base_uri": "https://localhost:8080/",
          "height": 34
        },
        "outputId": "27e0a472-31f7-4fec-dfd5-381bff386b88"
      },
      "source": [
        "breed_category = svm.predict(test_data)\n",
        "print(breed_category)"
      ],
      "execution_count": 106,
      "outputs": [
        {
          "output_type": "stream",
          "text": [
            "[2 2 2 ... 2 2 2]\n"
          ],
          "name": "stdout"
        }
      ]
    },
    {
      "cell_type": "markdown",
      "metadata": {
        "id": "F3oC3i_wfyV2",
        "colab_type": "text"
      },
      "source": [
        "# **Pet Classifier**"
      ]
    },
    {
      "cell_type": "code",
      "metadata": {
        "id": "Z6bFkWRAfkgm",
        "colab_type": "code",
        "colab": {}
      },
      "source": [
        "pet_data = pd.read_csv(\"/content/drive/My Drive/Pet_Adoption_Dataset/Pet Category Data\")"
      ],
      "execution_count": 69,
      "outputs": []
    },
    {
      "cell_type": "code",
      "metadata": {
        "id": "8jqE1BGQgjzl",
        "colab_type": "code",
        "colab": {
          "base_uri": "https://localhost:8080/",
          "height": 206
        },
        "outputId": "579675ea-0d1d-4c61-a385-a8ebf0bc9b61"
      },
      "source": [
        "pet_data.head()"
      ],
      "execution_count": 70,
      "outputs": [
        {
          "output_type": "execute_result",
          "data": {
            "text/html": [
              "<div>\n",
              "<style scoped>\n",
              "    .dataframe tbody tr th:only-of-type {\n",
              "        vertical-align: middle;\n",
              "    }\n",
              "\n",
              "    .dataframe tbody tr th {\n",
              "        vertical-align: top;\n",
              "    }\n",
              "\n",
              "    .dataframe thead th {\n",
              "        text-align: right;\n",
              "    }\n",
              "</style>\n",
              "<table border=\"1\" class=\"dataframe\">\n",
              "  <thead>\n",
              "    <tr style=\"text-align: right;\">\n",
              "      <th></th>\n",
              "      <th>condition</th>\n",
              "      <th>color_type</th>\n",
              "      <th>length(m)</th>\n",
              "      <th>height(cm)</th>\n",
              "      <th>X1</th>\n",
              "      <th>X2</th>\n",
              "      <th>pet_category</th>\n",
              "    </tr>\n",
              "  </thead>\n",
              "  <tbody>\n",
              "    <tr>\n",
              "      <th>0</th>\n",
              "      <td>1.494263</td>\n",
              "      <td>-0.336119</td>\n",
              "      <td>1.024225</td>\n",
              "      <td>-1.514343</td>\n",
              "      <td>1.169789</td>\n",
              "      <td>1.262750</td>\n",
              "      <td>-0.987801</td>\n",
              "    </tr>\n",
              "    <tr>\n",
              "      <th>1</th>\n",
              "      <td>0.143981</td>\n",
              "      <td>1.467833</td>\n",
              "      <td>0.747384</td>\n",
              "      <td>-1.020842</td>\n",
              "      <td>1.169789</td>\n",
              "      <td>1.262750</td>\n",
              "      <td>0.405149</td>\n",
              "    </tr>\n",
              "    <tr>\n",
              "      <th>2</th>\n",
              "      <td>0.143981</td>\n",
              "      <td>-0.490744</td>\n",
              "      <td>-1.225103</td>\n",
              "      <td>1.035542</td>\n",
              "      <td>1.475018</td>\n",
              "      <td>-0.157894</td>\n",
              "      <td>3.191051</td>\n",
              "    </tr>\n",
              "    <tr>\n",
              "      <th>3</th>\n",
              "      <td>0.143981</td>\n",
              "      <td>1.467833</td>\n",
              "      <td>0.401334</td>\n",
              "      <td>-0.741371</td>\n",
              "      <td>-0.814202</td>\n",
              "      <td>-1.010281</td>\n",
              "      <td>0.405149</td>\n",
              "    </tr>\n",
              "    <tr>\n",
              "      <th>4</th>\n",
              "      <td>1.494263</td>\n",
              "      <td>-1.160783</td>\n",
              "      <td>-0.013926</td>\n",
              "      <td>-1.261818</td>\n",
              "      <td>1.932862</td>\n",
              "      <td>-0.157894</td>\n",
              "      <td>-0.987801</td>\n",
              "    </tr>\n",
              "  </tbody>\n",
              "</table>\n",
              "</div>"
            ],
            "text/plain": [
              "   condition  color_type  length(m)  ...        X1        X2  pet_category\n",
              "0   1.494263   -0.336119   1.024225  ...  1.169789  1.262750     -0.987801\n",
              "1   0.143981    1.467833   0.747384  ...  1.169789  1.262750      0.405149\n",
              "2   0.143981   -0.490744  -1.225103  ...  1.475018 -0.157894      3.191051\n",
              "3   0.143981    1.467833   0.401334  ... -0.814202 -1.010281      0.405149\n",
              "4   1.494263   -1.160783  -0.013926  ...  1.932862 -0.157894     -0.987801\n",
              "\n",
              "[5 rows x 7 columns]"
            ]
          },
          "metadata": {
            "tags": []
          },
          "execution_count": 70
        }
      ]
    },
    {
      "cell_type": "code",
      "metadata": {
        "id": "iBMadsSngrRi",
        "colab_type": "code",
        "colab": {
          "base_uri": "https://localhost:8080/",
          "height": 104
        },
        "outputId": "2011cad4-0e5b-4c29-bcde-3f93fcc731b8"
      },
      "source": [
        "pet_data[\"pet_category\"].value_counts()"
      ],
      "execution_count": 72,
      "outputs": [
        {
          "output_type": "execute_result",
          "data": {
            "text/plain": [
              " 0.405149    10621\n",
              "-0.987801     7184\n",
              " 3.191051      941\n",
              "-2.380752       88\n",
              "Name: pet_category, dtype: int64"
            ]
          },
          "metadata": {
            "tags": []
          },
          "execution_count": 72
        }
      ]
    },
    {
      "cell_type": "code",
      "metadata": {
        "id": "LpNJS5qsguoa",
        "colab_type": "code",
        "colab": {
          "base_uri": "https://localhost:8080/",
          "height": 342
        },
        "outputId": "9adf41be-c364-4476-bfa2-a6b52b05caaa"
      },
      "source": [
        "sns.heatmap(pet_data.corr())"
      ],
      "execution_count": 73,
      "outputs": [
        {
          "output_type": "execute_result",
          "data": {
            "text/plain": [
              "<matplotlib.axes._subplots.AxesSubplot at 0x7fde78609eb8>"
            ]
          },
          "metadata": {
            "tags": []
          },
          "execution_count": 73
        },
        {
          "output_type": "display_data",
          "data": {
            "image/png": "[encoded data removed]",
            "text/plain": [
              "<Figure size 432x288 with 2 Axes>"
            ]
          },
          "metadata": {
            "tags": [],
            "needs_background": "light"
          }
        }
      ]
    },
    {
      "cell_type": "code",
      "metadata": {
        "id": "fdE7B64ehBli",
        "colab_type": "code",
        "colab": {
          "base_uri": "https://localhost:8080/",
          "height": 34
        },
        "outputId": "2a971707-a94e-4c24-a8db-74a1c9da9545"
      },
      "source": [
        "pet_data.shape"
      ],
      "execution_count": 78,
      "outputs": [
        {
          "output_type": "execute_result",
          "data": {
            "text/plain": [
              "(18834, 7)"
            ]
          },
          "metadata": {
            "tags": []
          },
          "execution_count": 78
        }
      ]
    },
    {
      "cell_type": "code",
      "metadata": {
        "id": "ZPXMxAJ6g0Qd",
        "colab_type": "code",
        "colab": {}
      },
      "source": [
        "from sklearn.model_selection import train_test_split\n",
        "\n",
        "X_train, X_test, y_train, y_test = train_test_split(pet_data.iloc[: , :-1], pet_data.iloc[:,-1], test_size= 0.2, random_state =  1 )"
      ],
      "execution_count": 75,
      "outputs": []
    },
    {
      "cell_type": "code",
      "metadata": {
        "id": "DH_vzVSNg7V8",
        "colab_type": "code",
        "colab": {
          "base_uri": "https://localhost:8080/",
          "height": 34
        },
        "outputId": "3c39c04e-c098-4eaa-ebbb-0696a9e623d7"
      },
      "source": [
        "print(X_train.shape, X_test.shape)"
      ],
      "execution_count": 77,
      "outputs": [
        {
          "output_type": "stream",
          "text": [
            "(15067, 6) (3767, 6)\n"
          ],
          "name": "stdout"
        }
      ]
    },
    {
      "cell_type": "code",
      "metadata": {
        "id": "LFQeJsLihHIh",
        "colab_type": "code",
        "colab": {}
      },
      "source": [
        "from sklearn.preprocessing import LabelEncoder\n",
        "\n",
        "le= LabelEncoder()\n",
        "y_train = le.fit_transform(y_train)\n",
        "y_test = le.fit_transform(y_test)"
      ],
      "execution_count": 79,
      "outputs": []
    },
    {
      "cell_type": "markdown",
      "metadata": {
        "id": "Q8nvADnBhTHu",
        "colab_type": "text"
      },
      "source": [
        "# **Log Reg**"
      ]
    },
    {
      "cell_type": "code",
      "metadata": {
        "id": "rlwawgVPhR30",
        "colab_type": "code",
        "colab": {
          "base_uri": "https://localhost:8080/",
          "height": 52
        },
        "outputId": "2c0946f6-e358-4305-aa67-0513da1216af"
      },
      "source": [
        "from sklearn.linear_model import LogisticRegression\n",
        "from sklearn.metrics import accuracy_score\n",
        "\n",
        "lr = LogisticRegression()\n",
        "lr.fit(X_train, y_train)\n",
        "y_pred = lr.predict(X_test)\n",
        "accuracy = lr.score(X_test, y_test)\n",
        "train_accuracy = lr.score(X_train, y_train)\n",
        "\n",
        "print(\"test accuracy\", accuracy)\n",
        "print(\"train accuracy\", train_accuracy)"
      ],
      "execution_count": 80,
      "outputs": [
        {
          "output_type": "stream",
          "text": [
            "test accuracy 0.6548977966551632\n",
            "train accuracy 0.6596535474878874\n"
          ],
          "name": "stdout"
        }
      ]
    },
    {
      "cell_type": "markdown",
      "metadata": {
        "id": "3EHGII9GhYxW",
        "colab_type": "text"
      },
      "source": [
        "# **Des Tree**"
      ]
    },
    {
      "cell_type": "code",
      "metadata": {
        "id": "1wieS4F_hNKh",
        "colab_type": "code",
        "colab": {
          "base_uri": "https://localhost:8080/",
          "height": 52
        },
        "outputId": "12bc113c-b336-405d-97db-848ebb810b15"
      },
      "source": [
        "from sklearn.tree import DecisionTreeClassifier\n",
        "\n",
        "dt = DecisionTreeClassifier()\n",
        "dt.fit(X_train, y_train)\n",
        "y_pred = dt.predict(X_test)\n",
        "accuracy =  dt.score(X_test, y_test)\n",
        "train_accuracy = dt.score(X_train, y_train)\n",
        "\n",
        "print(\"test accuracy\",accuracy)\n",
        "print(\"train accuracy\", train_accuracy)"
      ],
      "execution_count": 81,
      "outputs": [
        {
          "output_type": "stream",
          "text": [
            "test accuracy 0.8149721263604991\n",
            "train accuracy 0.9998672595739032\n"
          ],
          "name": "stdout"
        }
      ]
    },
    {
      "cell_type": "markdown",
      "metadata": {
        "id": "obhM8ZhOhhVB",
        "colab_type": "text"
      },
      "source": [
        "# **naive Bayes**"
      ]
    },
    {
      "cell_type": "code",
      "metadata": {
        "id": "2HZ1CSyvhdDp",
        "colab_type": "code",
        "colab": {
          "base_uri": "https://localhost:8080/",
          "height": 52
        },
        "outputId": "17b8fc68-ac06-46e5-c9ed-4a5b44ad4f29"
      },
      "source": [
        "from sklearn.naive_bayes import GaussianNB\n",
        "\n",
        "nb = GaussianNB()\n",
        "nb.fit(X_train, y_train)\n",
        "y_pred = nb.predict(X_test)\n",
        "accuracy = nb.score(X_test, y_test)\n",
        "train_accuracy = nb.score(X_train, y_train)\n",
        "\n",
        "print(\"test acc\",accuracy)\n",
        "print(\"train acc\", train_accuracy)"
      ],
      "execution_count": 83,
      "outputs": [
        {
          "output_type": "stream",
          "text": [
            "test acc 0.6541014069551367\n",
            "train acc 0.6540784495918232\n"
          ],
          "name": "stdout"
        }
      ]
    },
    {
      "cell_type": "markdown",
      "metadata": {
        "id": "xWvkpBsPho31",
        "colab_type": "text"
      },
      "source": [
        "# **SGD**"
      ]
    },
    {
      "cell_type": "code",
      "metadata": {
        "id": "gHsrVQ_chgHe",
        "colab_type": "code",
        "colab": {
          "base_uri": "https://localhost:8080/",
          "height": 52
        },
        "outputId": "d496aa60-0527-4ecb-b0f7-4479b72a997e"
      },
      "source": [
        "from sklearn.linear_model import SGDClassifier\n",
        "\n",
        "SGD = SGDClassifier()\n",
        "SGD.fit(X_train, y_train)\n",
        "y_pred = SGD.predict(X_test)\n",
        "accuracy = SGD.score(X_test, y_test)\n",
        "train_accuracy = SGD.score(X_train, y_train)\n",
        "\n",
        "print(\"test acc\",accuracy)\n",
        "print(\"train acc\", train_accuracy)"
      ],
      "execution_count": 84,
      "outputs": [
        {
          "output_type": "stream",
          "text": [
            "test acc 0.6434828776214494\n",
            "train acc 0.6386141899515497\n"
          ],
          "name": "stdout"
        }
      ]
    },
    {
      "cell_type": "markdown",
      "metadata": {
        "id": "cr6pX3lthvip",
        "colab_type": "text"
      },
      "source": [
        "# **Random Forest**"
      ]
    },
    {
      "cell_type": "code",
      "metadata": {
        "id": "gQF2K10JhoTk",
        "colab_type": "code",
        "colab": {
          "base_uri": "https://localhost:8080/",
          "height": 52
        },
        "outputId": "6908c73d-81f8-4010-c5b6-81e9631ad692"
      },
      "source": [
        "from sklearn.ensemble import RandomForestClassifier\n",
        "\n",
        "rf = RandomForestClassifier()\n",
        "rf.fit(X_train, y_train)\n",
        "train_accuracy = rf.score(X_train, y_train)\n",
        "test_accuracy = rf.score(X_test, y_test)\n",
        "\n",
        "print(\"train acc\", train_accuracy)\n",
        "print(\"test acc\", test_accuracy)"
      ],
      "execution_count": 85,
      "outputs": [
        {
          "output_type": "stream",
          "text": [
            "train acc 0.9998672595739032\n",
            "test acc 0.8311653835943722\n"
          ],
          "name": "stdout"
        }
      ]
    },
    {
      "cell_type": "markdown",
      "metadata": {
        "id": "yt5sj4_mh4Ln",
        "colab_type": "text"
      },
      "source": [
        "# **SVC**"
      ]
    },
    {
      "cell_type": "code",
      "metadata": {
        "id": "z1sKbajLhy24",
        "colab_type": "code",
        "colab": {
          "base_uri": "https://localhost:8080/",
          "height": 52
        },
        "outputId": "8b1fbfd8-4d57-4202-87ff-33e5c3cc1deb"
      },
      "source": [
        "from sklearn.svm import SVC\n",
        "\n",
        "svm1 = SVC()\n",
        "svm1.fit(X_train, y_train)\n",
        "train_accuracy = svm1.score(X_train, y_train)\n",
        "test_accuracy= svm1.score(X_test, y_test)\n",
        "\n",
        "print(\"train acc\", train_accuracy)\n",
        "print(\"test acc\", test_accuracy)"
      ],
      "execution_count": 88,
      "outputs": [
        {
          "output_type": "stream",
          "text": [
            "train acc 0.7087011349306431\n",
            "test acc 0.7021502521900717\n"
          ],
          "name": "stdout"
        }
      ]
    },
    {
      "cell_type": "markdown",
      "metadata": {
        "id": "2YQSh3Iah6eA",
        "colab_type": "text"
      },
      "source": [
        "# **KNN**"
      ]
    },
    {
      "cell_type": "code",
      "metadata": {
        "id": "Z3EA_0ydh3hx",
        "colab_type": "code",
        "colab": {
          "base_uri": "https://localhost:8080/",
          "height": 52
        },
        "outputId": "d2c89b12-eb29-4fd7-eb6c-fbce4ca504e0"
      },
      "source": [
        "from sklearn.neighbors import KNeighborsClassifier\n",
        "\n",
        "knn = KNeighborsClassifier()\n",
        "knn.fit(X_train, y_train)\n",
        "train_accuracy = knn.score(X_train, y_train)\n",
        "test_accuracy= knn.score(X_test, y_test)\n",
        "\n",
        "print(\"train acc\", train_accuracy)\n",
        "print(\"test acc\", test_accuracy)"
      ],
      "execution_count": 87,
      "outputs": [
        {
          "output_type": "stream",
          "text": [
            "train acc 0.7870179863277361\n",
            "test acc 0.6801168038226706\n"
          ],
          "name": "stdout"
        }
      ]
    },
    {
      "cell_type": "code",
      "metadata": {
        "id": "Zr1_eelIiG5t",
        "colab_type": "code",
        "colab": {
          "base_uri": "https://localhost:8080/",
          "height": 34
        },
        "outputId": "3b4f8190-9c01-4172-a7e3-a0b60bed1107"
      },
      "source": [
        "pet_category = svm1.predict(test_data)\n",
        "print(pet_category)"
      ],
      "execution_count": 107,
      "outputs": [
        {
          "output_type": "stream",
          "text": [
            "8072\n"
          ],
          "name": "stdout"
        }
      ]
    },
    {
      "cell_type": "code",
      "metadata": {
        "id": "C5OZQ9BBiZyB",
        "colab_type": "code",
        "colab": {
          "base_uri": "https://localhost:8080/",
          "height": 34
        },
        "outputId": "a00e121c-6ea4-4002-df78-734df1cfafb2"
      },
      "source": [
        "ls"
      ],
      "execution_count": 91,
      "outputs": [
        {
          "output_type": "stream",
          "text": [
            "\u001b[0m\u001b[01;34mdrive\u001b[0m/  \u001b[01;34msample_data\u001b[0m/\n"
          ],
          "name": "stdout"
        }
      ]
    },
    {
      "cell_type": "code",
      "metadata": {
        "id": "nmiS9UW0ig3o",
        "colab_type": "code",
        "colab": {}
      },
      "source": [
        "submission_file=pd.read_csv(\"/content/drive/My Drive/Pet_Adoption_Dataset/Submission Data\")"
      ],
      "execution_count": 92,
      "outputs": []
    },
    {
      "cell_type": "code",
      "metadata": {
        "id": "mG77R-sMiqGm",
        "colab_type": "code",
        "colab": {
          "base_uri": "https://localhost:8080/",
          "height": 34
        },
        "outputId": "657a1e7a-143b-46e7-8011-0645d193968f"
      },
      "source": [
        "submission_file.shape"
      ],
      "execution_count": 95,
      "outputs": [
        {
          "output_type": "execute_result",
          "data": {
            "text/plain": [
              "(8072, 1)"
            ]
          },
          "metadata": {
            "tags": []
          },
          "execution_count": 95
        }
      ]
    },
    {
      "cell_type": "code",
      "metadata": {
        "id": "34sA4o-5ixKg",
        "colab_type": "code",
        "colab": {}
      },
      "source": [
        "submission_file[\"breed_category\"] = breed_category\n",
        "submission_file[\"pet_category\"] = pet_category"
      ],
      "execution_count": 108,
      "outputs": []
    },
    {
      "cell_type": "code",
      "metadata": {
        "id": "GQ6c0LZXjAdK",
        "colab_type": "code",
        "colab": {
          "base_uri": "https://localhost:8080/",
          "height": 206
        },
        "outputId": "cef1c288-2d04-4474-8044-1387ba537edc"
      },
      "source": [
        "submission_file.head()"
      ],
      "execution_count": 109,
      "outputs": [
        {
          "output_type": "execute_result",
          "data": {
            "text/html": [
              "<div>\n",
              "<style scoped>\n",
              "    .dataframe tbody tr th:only-of-type {\n",
              "        vertical-align: middle;\n",
              "    }\n",
              "\n",
              "    .dataframe tbody tr th {\n",
              "        vertical-align: top;\n",
              "    }\n",
              "\n",
              "    .dataframe thead th {\n",
              "        text-align: right;\n",
              "    }\n",
              "</style>\n",
              "<table border=\"1\" class=\"dataframe\">\n",
              "  <thead>\n",
              "    <tr style=\"text-align: right;\">\n",
              "      <th></th>\n",
              "      <th>pet_id</th>\n",
              "      <th>breed_category</th>\n",
              "      <th>pet_category</th>\n",
              "    </tr>\n",
              "  </thead>\n",
              "  <tbody>\n",
              "    <tr>\n",
              "      <th>0</th>\n",
              "      <td>ANSL_75005</td>\n",
              "      <td>2</td>\n",
              "      <td>2</td>\n",
              "    </tr>\n",
              "    <tr>\n",
              "      <th>1</th>\n",
              "      <td>ANSL_76663</td>\n",
              "      <td>2</td>\n",
              "      <td>2</td>\n",
              "    </tr>\n",
              "    <tr>\n",
              "      <th>2</th>\n",
              "      <td>ANSL_58259</td>\n",
              "      <td>2</td>\n",
              "      <td>2</td>\n",
              "    </tr>\n",
              "    <tr>\n",
              "      <th>3</th>\n",
              "      <td>ANSL_67171</td>\n",
              "      <td>1</td>\n",
              "      <td>1</td>\n",
              "    </tr>\n",
              "    <tr>\n",
              "      <th>4</th>\n",
              "      <td>ANSL_72871</td>\n",
              "      <td>2</td>\n",
              "      <td>2</td>\n",
              "    </tr>\n",
              "  </tbody>\n",
              "</table>\n",
              "</div>"
            ],
            "text/plain": [
              "       pet_id  breed_category  pet_category\n",
              "0  ANSL_75005               2             2\n",
              "1  ANSL_76663               2             2\n",
              "2  ANSL_58259               2             2\n",
              "3  ANSL_67171               1             1\n",
              "4  ANSL_72871               2             2"
            ]
          },
          "metadata": {
            "tags": []
          },
          "execution_count": 109
        }
      ]
    },
    {
      "cell_type": "code",
      "metadata": {
        "id": "sXaQ3oXFkTGK",
        "colab_type": "code",
        "colab": {}
      },
      "source": [
        "submission_file.to_csv(\"Submission File.csv\")"
      ],
      "execution_count": 110,
      "outputs": []
    },
    {
      "cell_type": "code",
      "metadata": {
        "id": "vvSnBWRXkW_x",
        "colab_type": "code",
        "colab": {}
      },
      "source": [
        ""
      ],
      "execution_count": null,
      "outputs": []
    }
  ]
}